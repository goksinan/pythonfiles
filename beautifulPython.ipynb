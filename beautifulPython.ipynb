{
 "cells": [
  {
   "cell_type": "markdown",
   "metadata": {},
   "source": [
    "# Useful codes and snippets"
   ]
  },
  {
   "cell_type": "markdown",
   "metadata": {},
   "source": [
    "## 0. One line loop - List comprehension"
   ]
  },
  {
   "cell_type": "code",
   "execution_count": null,
   "metadata": {},
   "outputs": [],
   "source": [
    "print(sum([i**2 for i in range(10)]))\n",
    "\n",
    "# we don't need the brackets!\n",
    "\n",
    "print(sum(i**2 for i in range(10)))"
   ]
  },
  {
   "cell_type": "markdown",
   "metadata": {},
   "source": [
    "## 1. Basic for loop"
   ]
  },
  {
   "cell_type": "code",
   "execution_count": null,
   "metadata": {},
   "outputs": [],
   "source": [
    "for i in range(5):\n",
    "    print(i)"
   ]
  },
  {
   "cell_type": "markdown",
   "metadata": {},
   "source": [
    "## 2. Pythonian way of looping"
   ]
  },
  {
   "cell_type": "code",
   "execution_count": null,
   "metadata": {},
   "outputs": [],
   "source": [
    "colors = ['red', 'blue', 'green', 'yellow'] # A list of colors\n",
    "\n",
    "for color in colors:\n",
    "    print(color)\n",
    "print(' ')\n",
    "for color in reversed(colors): # Print in reverse\n",
    "    print(color)"
   ]
  },
  {
   "cell_type": "markdown",
   "metadata": {},
   "source": [
    "## 3. Extract both index number and value - ___enumerate()___"
   ]
  },
  {
   "cell_type": "code",
   "execution_count": null,
   "metadata": {},
   "outputs": [],
   "source": [
    "colors = ['red', 'blue', 'green', 'yellow'] # A list of colors\n",
    "\n",
    "for  ind, color in enumerate(colors):\n",
    "    print(ind, '--->', color)"
   ]
  },
  {
   "cell_type": "markdown",
   "metadata": {},
   "source": [
    "## 4. Looping over two collections - ___zip()___"
   ]
  },
  {
   "cell_type": "code",
   "execution_count": null,
   "metadata": {},
   "outputs": [],
   "source": [
    "names = ['bill', 'joey', 'zoe']\n",
    "colors = ['red', 'blue', 'green', 'yellow'] # A list of colors\n",
    "\n",
    "for name, color in zip(names, colors):\n",
    "    print(color, '--->', name)"
   ]
  },
  {
   "cell_type": "markdown",
   "metadata": {},
   "source": [
    "### Sorted order"
   ]
  },
  {
   "cell_type": "code",
   "execution_count": null,
   "metadata": {},
   "outputs": [],
   "source": [
    "for  color in sorted(colors, reverse=False): # For bacwards-> reverse=False\n",
    "    print(color)"
   ]
  },
  {
   "cell_type": "markdown",
   "metadata": {},
   "source": [
    "## 5. Use of comparision functions"
   ]
  },
  {
   "cell_type": "code",
   "execution_count": null,
   "metadata": {},
   "outputs": [],
   "source": [
    "print(sorted(colors, key=len))"
   ]
  },
  {
   "cell_type": "code",
   "execution_count": null,
   "metadata": {},
   "outputs": [],
   "source": [
    "## 6. Call a function until a sentinel value"
   ]
  },
  {
   "cell_type": "code",
   "execution_count": null,
   "metadata": {},
   "outputs": [],
   "source": [
    "for block in iter(partial(f.read, 32), ''): # This is sometimes useful, look it up later\n",
    "    blocks.append(block)"
   ]
  },
  {
   "cell_type": "code",
   "execution_count": null,
   "metadata": {},
   "outputs": [],
   "source": [
    "x = iter([\"apple\", \"banana\", \"cherry\", '', \"orange\", \"mellon\"])"
   ]
  },
  {
   "cell_type": "code",
   "execution_count": null,
   "metadata": {},
   "outputs": [],
   "source": [
    "print(next(x))"
   ]
  },
  {
   "cell_type": "markdown",
   "metadata": {},
   "source": [
    "## 6. Multiple exits: Using _else_ in conjunction with _for_"
   ]
  },
  {
   "cell_type": "code",
   "execution_count": null,
   "metadata": {},
   "outputs": [],
   "source": [
    "# If target exits in the sequence, return its index number, else return -1\n",
    "def find(seq, target):\n",
    "    for i, value in enumerate(seq):\n",
    "        if value == target:\n",
    "            break\n",
    "    else:\n",
    "        return -1\n",
    "    return i"
   ]
  },
  {
   "cell_type": "code",
   "execution_count": null,
   "metadata": {},
   "outputs": [],
   "source": [
    "x = [1,14,3,7,3,90,23,9,12,6]\n",
    "find(x,14)"
   ]
  },
  {
   "cell_type": "markdown",
   "metadata": {},
   "source": [
    "## 7. Looping over dictionaries"
   ]
  },
  {
   "cell_type": "code",
   "execution_count": null,
   "metadata": {},
   "outputs": [],
   "source": [
    "d = { 'mathew':21, 'george':65, 'sam':34, \"lilly\":18 }\n",
    "\n",
    "for k in d:\n",
    "    print(k)\n",
    "    \n",
    "for k in d.keys(): # If you loop this way, you can mutate the dictionary\n",
    "    if k.startswith('r'):\n",
    "        del d[k]"
   ]
  },
  {
   "cell_type": "code",
   "execution_count": null,
   "metadata": {},
   "outputs": [],
   "source": [
    "for k, v in d.items():\n",
    "    print(k, '--->', v)"
   ]
  },
  {
   "cell_type": "markdown",
   "metadata": {},
   "source": [
    "## 8. Constructing dictionaries"
   ]
  },
  {
   "cell_type": "code",
   "execution_count": null,
   "metadata": {},
   "outputs": [],
   "source": [
    "names = ['bill', 'joey', 'zoe']\n",
    "colors = ['red', 'blue', 'green', 'yellow'] # A list of colors\n",
    "\n",
    "d = dict(zip(names,colors))"
   ]
  },
  {
   "cell_type": "markdown",
   "metadata": {},
   "source": [
    "## 9. Counting with dictionaries"
   ]
  },
  {
   "cell_type": "code",
   "execution_count": null,
   "metadata": {},
   "outputs": [],
   "source": [
    "colors = ['red', 'blue', 'green', 'yellow', 'green', 'purple', 'blue'] # A list of colors\n",
    "\n",
    "# The most basic way of counting the number of elements in a list:\n",
    "d = {}\n",
    "for color in colors:\n",
    "    if color not in d:\n",
    "        d[color] = 0\n",
    "    d[color] += 1\n",
    "    \n",
    "# But there is a better way:\n",
    "d = {}\n",
    "for color in colors:\n",
    "    d[color] = d.get(color,0) + 1\n",
    "    \n",
    "# A more modern way:\n",
    "from collections import defaultdict\n",
    "d = defaultdict(int)\n",
    "for color in colors:\n",
    "    d[color] += 1"
   ]
  },
  {
   "cell_type": "markdown",
   "metadata": {},
   "source": [
    "## 10. Grouping with dictionaries"
   ]
  },
  {
   "cell_type": "code",
   "execution_count": null,
   "metadata": {},
   "outputs": [],
   "source": [
    "colors = ['red', 'blue', 'green', 'yellow', 'green', 'purple', 'blue'] # A list of colors\n",
    "\n",
    "# Group by the length of the words\n",
    "d = {}\n",
    "for color in colors:\n",
    "    key = len(color)\n",
    "    if key not in d:\n",
    "        d[key] = []\n",
    "    d[key].append(color)\n",
    "\n",
    "# Better way\n",
    "d = {}\n",
    "for color in colors:\n",
    "    key = len(color)\n",
    "    d.setdefault(key, []).append(color)\n",
    "    \n",
    "# Modern way\n",
    "from collections import defaultdict\n",
    "d = defaultdict(list)\n",
    "for color in colors:\n",
    "    key = len(color)\n",
    "    d[key].append(color)"
   ]
  },
  {
   "cell_type": "markdown",
   "metadata": {},
   "source": [
    "## 11. Pop an item from a dictionary"
   ]
  },
  {
   "cell_type": "code",
   "execution_count": null,
   "metadata": {},
   "outputs": [],
   "source": [
    "d = { 'mathew':21, 'george':65, 'sam':34, \"lilly\":18 }\n",
    "\n",
    "# Remove the elements in the dictionary\n",
    "while d:\n",
    "    key, value = d.popitem() \n",
    "    print(key, '--->', value)"
   ]
  },
  {
   "cell_type": "markdown",
   "metadata": {},
   "source": [
    "## 12. For more readible error messages, use named touples"
   ]
  },
  {
   "cell_type": "code",
   "execution_count": null,
   "metadata": {},
   "outputs": [],
   "source": [
    "from collections import namedtuple\n",
    "TestResults = namedtuple('TestResults', ['failed', 'attempted'])"
   ]
  },
  {
   "cell_type": "markdown",
   "metadata": {},
   "source": [
    "## 13. Updating multiple state variables - _very important!_"
   ]
  },
  {
   "cell_type": "code",
   "execution_count": null,
   "metadata": {},
   "outputs": [],
   "source": [
    "# Use tuple packing/unpacking\n",
    "def fibonacci(n):\n",
    "    x, y = 0, 1 # initial conditions\n",
    "    for i in range(n):\n",
    "        print(x)\n",
    "        x, y = y, x+y # right-hand-side uses the current value of x and y, then they get updated"
   ]
  },
  {
   "cell_type": "markdown",
   "metadata": {},
   "source": [
    "## 14. Concatenating strings - ___join()___"
   ]
  },
  {
   "cell_type": "code",
   "execution_count": null,
   "metadata": {},
   "outputs": [],
   "source": [
    "colors = ['red', 'blue', 'green', 'yellow', 'green', 'purple', 'blue'] # A list of colors\n",
    "\n",
    "print(','.join(colors)) # join words with comma inbetween"
   ]
  },
  {
   "cell_type": "markdown",
   "metadata": {},
   "source": [
    "## 15. Updating sequences - ___deque()___"
   ]
  },
  {
   "cell_type": "code",
   "execution_count": null,
   "metadata": {},
   "outputs": [],
   "source": [
    "# Delete, pop (keep deleted item), insert items from list efficiently\n",
    "from collections import deque\n",
    "names = deque(['ray', 'rachel', 'matthew', 'roger', 'betty', 'melissa', 'judy', 'charles'])\n",
    "names\n",
    "del names[0]\n",
    "print(names)\n",
    "names.popleft()\n",
    "print(names)\n",
    "names.appendleft('mark')\n",
    "print(names)"
   ]
  },
  {
   "cell_type": "code",
   "execution_count": null,
   "metadata": {},
   "outputs": [],
   "source": [
    "\n"
   ]
  },
  {
   "cell_type": "code",
   "execution_count": null,
   "metadata": {},
   "outputs": [],
   "source": []
  }
 ],
 "metadata": {
  "kernelspec": {
   "display_name": "Python 3",
   "language": "python",
   "name": "python3"
  },
  "language_info": {
   "codemirror_mode": {
    "name": "ipython",
    "version": 3
   },
   "file_extension": ".py",
   "mimetype": "text/x-python",
   "name": "python",
   "nbconvert_exporter": "python",
   "pygments_lexer": "ipython3",
   "version": "3.7.0"
  }
 },
 "nbformat": 4,
 "nbformat_minor": 2
}
